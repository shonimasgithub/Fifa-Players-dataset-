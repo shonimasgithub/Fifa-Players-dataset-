{
 "cells": [
  {
   "cell_type": "code",
   "execution_count": 185,
   "id": "70e6801c",
   "metadata": {},
   "outputs": [],
   "source": [
    "import numpy as np\n",
    "import pandas as pd\n",
    "from matplotlib import pyplot as plt\n",
    "import seaborn as sns"
   ]
  },
  {
   "cell_type": "code",
   "execution_count": 186,
   "id": "384fecc1",
   "metadata": {},
   "outputs": [
    {
     "name": "stdout",
     "output_type": "stream",
     "text": [
      "       Unnamed: 0      ID                Name  Age  \\\n",
      "0               0  158023            L. Messi   31   \n",
      "1               1   20801   Cristiano Ronaldo   33   \n",
      "2               2  190871           Neymar Jr   26   \n",
      "3               3  193080              De Gea   27   \n",
      "4               4  192985        K. De Bruyne   27   \n",
      "...           ...     ...                 ...  ...   \n",
      "18202       18202  238813        J. Lundstram   19   \n",
      "18203       18203  243165  N. Christoffersson   19   \n",
      "18204       18204  241638           B. Worman   16   \n",
      "18205       18205  246268      D. Walker-Rice   17   \n",
      "18206       18206  246269           G. Nugent   16   \n",
      "\n",
      "                                                Photo Nationality  \\\n",
      "0      https://cdn.sofifa.org/players/4/19/158023.png   Argentina   \n",
      "1       https://cdn.sofifa.org/players/4/19/20801.png    Portugal   \n",
      "2      https://cdn.sofifa.org/players/4/19/190871.png      Brazil   \n",
      "3      https://cdn.sofifa.org/players/4/19/193080.png       Spain   \n",
      "4      https://cdn.sofifa.org/players/4/19/192985.png     Belgium   \n",
      "...                                               ...         ...   \n",
      "18202  https://cdn.sofifa.org/players/4/19/238813.png     England   \n",
      "18203  https://cdn.sofifa.org/players/4/19/243165.png      Sweden   \n",
      "18204  https://cdn.sofifa.org/players/4/19/241638.png     England   \n",
      "18205  https://cdn.sofifa.org/players/4/19/246268.png     England   \n",
      "18206  https://cdn.sofifa.org/players/4/19/246269.png     England   \n",
      "\n",
      "                                      Flag  Overall  Potential  \\\n",
      "0      https://cdn.sofifa.org/flags/52.png       94         94   \n",
      "1      https://cdn.sofifa.org/flags/38.png       94         94   \n",
      "2      https://cdn.sofifa.org/flags/54.png       92         93   \n",
      "3      https://cdn.sofifa.org/flags/45.png       91         93   \n",
      "4       https://cdn.sofifa.org/flags/7.png       91         92   \n",
      "...                                    ...      ...        ...   \n",
      "18202  https://cdn.sofifa.org/flags/14.png       47         65   \n",
      "18203  https://cdn.sofifa.org/flags/46.png       47         63   \n",
      "18204  https://cdn.sofifa.org/flags/14.png       47         67   \n",
      "18205  https://cdn.sofifa.org/flags/14.png       47         66   \n",
      "18206  https://cdn.sofifa.org/flags/14.png       46         66   \n",
      "\n",
      "                      Club  ... Composure Marking StandingTackle  \\\n",
      "0             FC Barcelona  ...      96.0    33.0           28.0   \n",
      "1                 Juventus  ...      95.0    28.0           31.0   \n",
      "2      Paris Saint-Germain  ...      94.0    27.0           24.0   \n",
      "3        Manchester United  ...      68.0    15.0           21.0   \n",
      "4          Manchester City  ...      88.0    68.0           58.0   \n",
      "...                    ...  ...       ...     ...            ...   \n",
      "18202      Crewe Alexandra  ...      45.0    40.0           48.0   \n",
      "18203       Trelleborgs FF  ...      42.0    22.0           15.0   \n",
      "18204     Cambridge United  ...      41.0    32.0           13.0   \n",
      "18205      Tranmere Rovers  ...      46.0    20.0           25.0   \n",
      "18206      Tranmere Rovers  ...      43.0    40.0           43.0   \n",
      "\n",
      "       SlidingTackle GKDiving  GKHandling  GKKicking  GKPositioning  \\\n",
      "0               26.0      6.0        11.0       15.0           14.0   \n",
      "1               23.0      7.0        11.0       15.0           14.0   \n",
      "2               33.0      9.0         9.0       15.0           15.0   \n",
      "3               13.0     90.0        85.0       87.0           88.0   \n",
      "4               51.0     15.0        13.0        5.0           10.0   \n",
      "...              ...      ...         ...        ...            ...   \n",
      "18202           47.0     10.0        13.0        7.0            8.0   \n",
      "18203           19.0     10.0         9.0        9.0            5.0   \n",
      "18204           11.0      6.0         5.0       10.0            6.0   \n",
      "18205           27.0     14.0         6.0       14.0            8.0   \n",
      "18206           50.0     10.0        15.0        9.0           12.0   \n",
      "\n",
      "      GKReflexes Release Clause  \n",
      "0            8.0        €226.5M  \n",
      "1           11.0        €127.1M  \n",
      "2           11.0        €228.1M  \n",
      "3           94.0        €138.6M  \n",
      "4           13.0        €196.4M  \n",
      "...          ...            ...  \n",
      "18202        9.0          €143K  \n",
      "18203       12.0          €113K  \n",
      "18204       13.0          €165K  \n",
      "18205        9.0          €143K  \n",
      "18206        9.0          €165K  \n",
      "\n",
      "[18207 rows x 89 columns]\n"
     ]
    }
   ],
   "source": [
    "fifa=pd.read_csv(\"C:\\\\Users\\\\Shonima\\\\ENTRI ELEVATE\\\\fifa_data.csv\")\n",
    "print(fifa)"
   ]
  },
  {
   "cell_type": "markdown",
   "id": "070ba01f",
   "metadata": {},
   "source": [
    "#### 1.Which country has the most number of players (score :1)\n",
    "England"
   ]
  },
  {
   "cell_type": "markdown",
   "id": "928611dc",
   "metadata": {},
   "source": [
    "#### insight:England has the most no. of players with 1662 players"
   ]
  },
  {
   "cell_type": "code",
   "execution_count": 187,
   "id": "a3c5968e",
   "metadata": {},
   "outputs": [
    {
     "name": "stdout",
     "output_type": "stream",
     "text": [
      "Nationality\n",
      "England      1662\n",
      "Germany      1198\n",
      "Spain        1072\n",
      "Argentina     937\n",
      "France        914\n",
      "Name: count, dtype: int64\n"
     ]
    }
   ],
   "source": [
    "nat=fifa[\"Nationality\"].value_counts()\n",
    "nat1=nat.head()\n",
    "print(nat1)"
   ]
  },
  {
   "cell_type": "markdown",
   "id": "5627fecd",
   "metadata": {},
   "source": [
    "#### 2.Plot a bar chart of 5 top countries with the most number of players. (score :1)"
   ]
  },
  {
   "cell_type": "code",
   "execution_count": 188,
   "id": "f9857a02",
   "metadata": {},
   "outputs": [
    {
     "data": {
      "image/png": "[encoded data removed]",
      "text/plain": [
       "<Figure size 640x480 with 1 Axes>"
      ]
     },
     "metadata": {},
     "output_type": "display_data"
    }
   ],
   "source": [
    "x=[\"England\",\"Germany\",\"Spain\",\"Argentina\",\"France\"]\n",
    "y=[1662,1198,1072,937,914]\n",
    "plt.bar(x,y,width=0.5,color=\"black\")\n",
    "plt.show()"
   ]
  },
  {
   "cell_type": "markdown",
   "id": "4c1d75c3",
   "metadata": {},
   "source": [
    "#### insight:As we can see from the graph England has the most no.of players with 1600 above players,in the second position we can see Germany with almost 1200 players,after England comes Spain with just above 1000 players,in the 4th position comes Argentina with 900 above players and in 5th position with nearly same players as in Argentina"
   ]
  },
  {
   "cell_type": "markdown",
   "id": "fdc533fe",
   "metadata": {},
   "source": [
    "##### 3.Which player has the highest salary? (score :1)"
   ]
  },
  {
   "cell_type": "code",
   "execution_count": 189,
   "id": "6ee6da97",
   "metadata": {},
   "outputs": [
    {
     "data": {
      "text/plain": [
       "0        565.0\n",
       "1        405.0\n",
       "2        290.0\n",
       "3        260.0\n",
       "4        355.0\n",
       "         ...  \n",
       "18202      1.0\n",
       "18203      1.0\n",
       "18204      1.0\n",
       "18205      1.0\n",
       "18206      1.0\n",
       "Name: Wage, Length: 18207, dtype: float64"
      ]
     },
     "execution_count": 189,
     "metadata": {},
     "output_type": "execute_result"
    }
   ],
   "source": [
    "fifa[fifa.columns[12]]=fifa[fifa.columns[12]].replace('[^.0-9]','',regex=True).astype(float)\n",
    "fifa['Wage']"
   ]
  },
  {
   "cell_type": "code",
   "execution_count": 190,
   "id": "08bb6349",
   "metadata": {},
   "outputs": [
    {
     "data": {
      "text/html": [
       "<div>\n",
       "<style scoped>\n",
       "    .dataframe tbody tr th:only-of-type {\n",
       "        vertical-align: middle;\n",
       "    }\n",
       "\n",
       "    .dataframe tbody tr th {\n",
       "        vertical-align: top;\n",
       "    }\n",
       "\n",
       "    .dataframe thead th {\n",
       "        text-align: right;\n",
       "    }\n",
       "</style>\n",
       "<table border=\"1\" class=\"dataframe\">\n",
       "  <thead>\n",
       "    <tr style=\"text-align: right;\">\n",
       "      <th></th>\n",
       "      <th>Name</th>\n",
       "      <th>Nationality</th>\n",
       "      <th>Wage</th>\n",
       "    </tr>\n",
       "  </thead>\n",
       "  <tbody>\n",
       "    <tr>\n",
       "      <th>0</th>\n",
       "      <td>L. Messi</td>\n",
       "      <td>Argentina</td>\n",
       "      <td>565.0</td>\n",
       "    </tr>\n",
       "  </tbody>\n",
       "</table>\n",
       "</div>"
      ],
      "text/plain": [
       "       Name Nationality   Wage\n",
       "0  L. Messi   Argentina  565.0"
      ]
     },
     "execution_count": 190,
     "metadata": {},
     "output_type": "execute_result"
    }
   ],
   "source": [
    "fifa[['Name','Nationality','Wage']][fifa['Wage']==fifa['Wage'].max()]"
   ]
  },
  {
   "cell_type": "markdown",
   "id": "6f0dac6f",
   "metadata": {},
   "source": [
    "##### insight:Argentine player Lionel Messsi has the highest salary with 565000.0$"
   ]
  },
  {
   "cell_type": "markdown",
   "id": "1b8427ff",
   "metadata": {},
   "source": [
    "#### 4.Plot a histogram to get the salary range of the players. (score :1)"
   ]
  },
  {
   "cell_type": "code",
   "execution_count": 191,
   "id": "f24a7782",
   "metadata": {},
   "outputs": [
    {
     "data": {
      "image/png": "[encoded data removed]",
      "text/plain": [
       "<Figure size 640x480 with 1 Axes>"
      ]
     },
     "metadata": {},
     "output_type": "display_data"
    }
   ],
   "source": [
    "plt.hist('Wage',data=fifa)\n",
    "plt.title(\"Salary range of players\")\n",
    "plt.xlabel(\"salary\")\n",
    "plt.ylabel(\"number of players\")\n",
    "plt.show()"
   ]
  },
  {
   "cell_type": "markdown",
   "id": "226ee223",
   "metadata": {},
   "source": [
    "##### insight:A majority of the players are having a salary around 50k"
   ]
  },
  {
   "cell_type": "code",
   "execution_count": 192,
   "id": "86822e5b",
   "metadata": {},
   "outputs": [
    {
     "data": {
      "text/plain": [
       "0        565.0\n",
       "1        405.0\n",
       "2        290.0\n",
       "3        260.0\n",
       "4        355.0\n",
       "         ...  \n",
       "18202      1.0\n",
       "18203      1.0\n",
       "18204      1.0\n",
       "18205      1.0\n",
       "18206      1.0\n",
       "Name: Wage, Length: 18207, dtype: float64"
      ]
     },
     "execution_count": 192,
     "metadata": {},
     "output_type": "execute_result"
    }
   ],
   "source": [
    "fifa[fifa.columns[12]]=fifa[fifa.columns[12]].replace('[^.0-9]','',regex=True).astype(float)\n",
    "\n",
    "fifa['Wage']"
   ]
  },
  {
   "cell_type": "markdown",
   "id": "38cb8ba5",
   "metadata": {},
   "source": [
    "#### 5.Who is the tallest player in the fifa? (score :1)"
   ]
  },
  {
   "cell_type": "code",
   "execution_count": 193,
   "id": "01fef826",
   "metadata": {},
   "outputs": [
    {
     "data": {
      "text/html": [
       "<div>\n",
       "<style scoped>\n",
       "    .dataframe tbody tr th:only-of-type {\n",
       "        vertical-align: middle;\n",
       "    }\n",
       "\n",
       "    .dataframe tbody tr th {\n",
       "        vertical-align: top;\n",
       "    }\n",
       "\n",
       "    .dataframe thead th {\n",
       "        text-align: right;\n",
       "    }\n",
       "</style>\n",
       "<table border=\"1\" class=\"dataframe\">\n",
       "  <thead>\n",
       "    <tr style=\"text-align: right;\">\n",
       "      <th></th>\n",
       "      <th>Name</th>\n",
       "      <th>Height</th>\n",
       "      <th>Nationality</th>\n",
       "    </tr>\n",
       "  </thead>\n",
       "  <tbody>\n",
       "    <tr>\n",
       "      <th>11614</th>\n",
       "      <td>T. Holý</td>\n",
       "      <td>6'9</td>\n",
       "      <td>Czech Republic</td>\n",
       "    </tr>\n",
       "    <tr>\n",
       "      <th>17927</th>\n",
       "      <td>D. Hodzic</td>\n",
       "      <td>6'9</td>\n",
       "      <td>Croatia</td>\n",
       "    </tr>\n",
       "    <tr>\n",
       "      <th>11903</th>\n",
       "      <td>K. Scherpen</td>\n",
       "      <td>6'8</td>\n",
       "      <td>Netherlands</td>\n",
       "    </tr>\n",
       "    <tr>\n",
       "      <th>17694</th>\n",
       "      <td>M. Casey</td>\n",
       "      <td>6'8</td>\n",
       "      <td>England</td>\n",
       "    </tr>\n",
       "    <tr>\n",
       "      <th>4189</th>\n",
       "      <td>V. Milinković-Savić</td>\n",
       "      <td>6'8</td>\n",
       "      <td>Serbia</td>\n",
       "    </tr>\n",
       "  </tbody>\n",
       "</table>\n",
       "</div>"
      ],
      "text/plain": [
       "                      Name Height     Nationality\n",
       "11614              T. Holý    6'9  Czech Republic\n",
       "17927            D. Hodzic    6'9         Croatia\n",
       "11903          K. Scherpen    6'8     Netherlands\n",
       "17694             M. Casey    6'8         England\n",
       "4189   V. Milinković-Savić    6'8          Serbia"
      ]
     },
     "execution_count": 193,
     "metadata": {},
     "output_type": "execute_result"
    }
   ],
   "source": [
    "ht=fifa.sort_values(by=\"Height\",ascending=False)\n",
    "ht[[\"Name\",\"Height\",\"Nationality\"]].head()"
   ]
  },
  {
   "cell_type": "markdown",
   "id": "29e026fa",
   "metadata": {},
   "source": [
    "#### insight:There are two players with the height 6'9,one is T.Holy from Czech Republic and the other player is D. Hodzic from Croatia.They are the tallest of all other players in fifa."
   ]
  },
  {
   "cell_type": "markdown",
   "id": "20449dc2",
   "metadata": {},
   "source": [
    "#### 6.Which club has the most number of players? (score :1)\n",
    "#### insight:26 clubs have the most no.of players with each club containing 33 players.\n",
    "Club\n",
    "FC Barcelona               \n",
    "Valencia CF                \n",
    "Fortuna Düsseldorf         \n",
    "Cardiff City               \n",
    "Rayo Vallecano             \n",
    "CD Leganés                 \n",
    "Frosinone                  \n",
    "Newcastle United           \n",
    "Southampton                \n",
    "Burnley                    \n",
    "Eintracht Frankfurt        \n",
    "Wolverhampton Wanderers    \n",
    "TSG 1899 Hoffenheim        \n",
    "Everton                    \n",
    "AS Monaco                  \n",
    "RC Celta                   \n",
    "Empoli                     \n",
    "Manchester City            \n",
    "Manchester United          \n",
    "Borussia Dortmund          \n",
    "Real Madrid                \n",
    "Atlético Madrid            \n",
    "Tottenham Hotspur                             \n",
    "Liverpool                  \n",
    "Arsenal\n",
    "\n",
    "Chelsea"
   ]
  },
  {
   "cell_type": "code",
   "execution_count": 194,
   "id": "be2e422b",
   "metadata": {},
   "outputs": [
    {
     "name": "stdout",
     "output_type": "stream",
     "text": [
      "Club\n",
      "FC Barcelona               33\n",
      "Valencia CF                33\n",
      "Fortuna Düsseldorf         33\n",
      "Cardiff City               33\n",
      "Rayo Vallecano             33\n",
      "CD Leganés                 33\n",
      "Frosinone                  33\n",
      "Newcastle United           33\n",
      "Southampton                33\n",
      "Burnley                    33\n",
      "Eintracht Frankfurt        33\n",
      "Wolverhampton Wanderers    33\n",
      "TSG 1899 Hoffenheim        33\n",
      "Everton                    33\n",
      "AS Monaco                  33\n",
      "RC Celta                   33\n",
      "Empoli                     33\n",
      "Manchester City            33\n",
      "Manchester United          33\n",
      "Borussia Dortmund          33\n",
      "Real Madrid                33\n",
      "Atlético Madrid            33\n",
      "Tottenham Hotspur          33\n",
      "Chelsea                    33\n",
      "Liverpool                  33\n",
      "Arsenal                    33\n",
      "Name: count, dtype: int64\n"
     ]
    }
   ],
   "source": [
    "club=fifa[\"Club\"].value_counts()\n",
    "club1=club.head(26)\n",
    "print(club1)"
   ]
  },
  {
   "cell_type": "markdown",
   "id": "79de3483",
   "metadata": {},
   "source": [
    "#### 7.Which foot is most preferred by the players?Draw a bar chart for preferred foot (score :1)\n"
   ]
  },
  {
   "cell_type": "code",
   "execution_count": 199,
   "id": "9e7a800a",
   "metadata": {},
   "outputs": [
    {
     "name": "stdout",
     "output_type": "stream",
     "text": [
      "Preferred Foot\n",
      "Right    13948\n",
      "Left      4211\n",
      "Name: count, dtype: int64\n"
     ]
    },
    {
     "data": {
      "image/png": "[encoded data removed]",
      "text/plain": [
       "<Figure size 640x480 with 1 Axes>"
      ]
     },
     "metadata": {},
     "output_type": "display_data"
    }
   ],
   "source": [
    "foot=fifa[\"Preferred Foot\"].value_counts()\n",
    "print(foot)\n",
    "foot.plot(kind=\"bar\",color=\"k\")\n",
    "plt.title(\"PREFFERED FOOT BY PLAYERS\",color=\"r\")\n",
    "plt.xlabel(\"preffered foot\")\n",
    "plt.ylabel(\"no.of players\")\n",
    "plt.show()"
   ]
  },
  {
   "cell_type": "markdown",
   "id": "e8df5791",
   "metadata": {},
   "source": [
    "####  most preffered foot by players is right foot with 13948 players choosing right foot as preferred foot"
   ]
  },
  {
   "cell_type": "code",
   "execution_count": 3,
   "id": "22ea3338",
   "metadata": {},
   "outputs": [
    {
     "name": "stdout",
     "output_type": "stream",
     "text": [
      "<class 'pandas.core.frame.DataFrame'>\n",
      "RangeIndex: 18207 entries, 0 to 18206\n",
      "Data columns (total 89 columns):\n",
      " #   Column                    Non-Null Count  Dtype  \n",
      "---  ------                    --------------  -----  \n",
      " 0   Unnamed: 0                18207 non-null  int64  \n",
      " 1   ID                        18207 non-null  int64  \n",
      " 2   Name                      18207 non-null  object \n",
      " 3   Age                       18207 non-null  int64  \n",
      " 4   Photo                     18207 non-null  object \n",
      " 5   Nationality               18207 non-null  object \n",
      " 6   Flag                      18207 non-null  object \n",
      " 7   Overall                   18207 non-null  int64  \n",
      " 8   Potential                 18207 non-null  int64  \n",
      " 9   Club                      17966 non-null  object \n",
      " 10  Club Logo                 18207 non-null  object \n",
      " 11  Value                     18207 non-null  object \n",
      " 12  Wage                      18207 non-null  object \n",
      " 13  Special                   18207 non-null  int64  \n",
      " 14  Preferred Foot            18159 non-null  object \n",
      " 15  International Reputation  18159 non-null  float64\n",
      " 16  Weak Foot                 18159 non-null  float64\n",
      " 17  Skill Moves               18159 non-null  float64\n",
      " 18  Work Rate                 18159 non-null  object \n",
      " 19  Body Type                 18159 non-null  object \n",
      " 20  Real Face                 18159 non-null  object \n",
      " 21  Position                  18147 non-null  object \n",
      " 22  Jersey Number             18147 non-null  float64\n",
      " 23  Joined                    16654 non-null  object \n",
      " 24  Loaned From               1264 non-null   object \n",
      " 25  Contract Valid Until      17918 non-null  object \n",
      " 26  Height                    18159 non-null  object \n",
      " 27  Weight                    18159 non-null  object \n",
      " 28  LS                        16122 non-null  object \n",
      " 29  ST                        16122 non-null  object \n",
      " 30  RS                        16122 non-null  object \n",
      " 31  LW                        16122 non-null  object \n",
      " 32  LF                        16122 non-null  object \n",
      " 33  CF                        16122 non-null  object \n",
      " 34  RF                        16122 non-null  object \n",
      " 35  RW                        16122 non-null  object \n",
      " 36  LAM                       16122 non-null  object \n",
      " 37  CAM                       16122 non-null  object \n",
      " 38  RAM                       16122 non-null  object \n",
      " 39  LM                        16122 non-null  object \n",
      " 40  LCM                       16122 non-null  object \n",
      " 41  CM                        16122 non-null  object \n",
      " 42  RCM                       16122 non-null  object \n",
      " 43  RM                        16122 non-null  object \n",
      " 44  LWB                       16122 non-null  object \n",
      " 45  LDM                       16122 non-null  object \n",
      " 46  CDM                       16122 non-null  object \n",
      " 47  RDM                       16122 non-null  object \n",
      " 48  RWB                       16122 non-null  object \n",
      " 49  LB                        16122 non-null  object \n",
      " 50  LCB                       16122 non-null  object \n",
      " 51  CB                        16122 non-null  object \n",
      " 52  RCB                       16122 non-null  object \n",
      " 53  RB                        16122 non-null  object \n",
      " 54  Crossing                  18159 non-null  float64\n",
      " 55  Finishing                 18159 non-null  float64\n",
      " 56  HeadingAccuracy           18159 non-null  float64\n",
      " 57  ShortPassing              18159 non-null  float64\n",
      " 58  Volleys                   18159 non-null  float64\n",
      " 59  Dribbling                 18159 non-null  float64\n",
      " 60  Curve                     18159 non-null  float64\n",
      " 61  FKAccuracy                18159 non-null  float64\n",
      " 62  LongPassing               18159 non-null  float64\n",
      " 63  BallControl               18159 non-null  float64\n",
      " 64  Acceleration              18159 non-null  float64\n",
      " 65  SprintSpeed               18159 non-null  float64\n",
      " 66  Agility                   18159 non-null  float64\n",
      " 67  Reactions                 18159 non-null  float64\n",
      " 68  Balance                   18159 non-null  float64\n",
      " 69  ShotPower                 18159 non-null  float64\n",
      " 70  Jumping                   18159 non-null  float64\n",
      " 71  Stamina                   18159 non-null  float64\n",
      " 72  Strength                  18159 non-null  float64\n",
      " 73  LongShots                 18159 non-null  float64\n",
      " 74  Aggression                18159 non-null  float64\n",
      " 75  Interceptions             18159 non-null  float64\n",
      " 76  Positioning               18159 non-null  float64\n",
      " 77  Vision                    18159 non-null  float64\n",
      " 78  Penalties                 18159 non-null  float64\n",
      " 79  Composure                 18159 non-null  float64\n",
      " 80  Marking                   18159 non-null  float64\n",
      " 81  StandingTackle            18159 non-null  float64\n",
      " 82  SlidingTackle             18159 non-null  float64\n",
      " 83  GKDiving                  18159 non-null  float64\n",
      " 84  GKHandling                18159 non-null  float64\n",
      " 85  GKKicking                 18159 non-null  float64\n",
      " 86  GKPositioning             18159 non-null  float64\n",
      " 87  GKReflexes                18159 non-null  float64\n",
      " 88  Release Clause            16643 non-null  object \n",
      "dtypes: float64(38), int64(6), object(45)\n",
      "memory usage: 12.4+ MB\n"
     ]
    }
   ],
   "source": [
    "fifa.info()"
   ]
  },
  {
   "cell_type": "code",
   "execution_count": 11,
   "id": "1de705f1",
   "metadata": {},
   "outputs": [
    {
     "data": {
      "text/plain": [
       "Nationality\n",
       "England                 1662\n",
       "Germany                 1198\n",
       "Spain                   1072\n",
       "Argentina                937\n",
       "France                   914\n",
       "                        ... \n",
       "New Caledonia              1\n",
       "Fiji                       1\n",
       "São Tomé & Príncipe        1\n",
       "United Arab Emirates       1\n",
       "Botswana                   1\n",
       "Name: count, Length: 164, dtype: int64"
      ]
     },
     "execution_count": 11,
     "metadata": {},
     "output_type": "execute_result"
    }
   ],
   "source": [
    "fifa[\"Nationality\"].value_counts()"
   ]
  },
  {
   "cell_type": "code",
   "execution_count": 4,
   "id": "5570ed57",
   "metadata": {},
   "outputs": [
    {
     "data": {
      "text/plain": [
       "0"
      ]
     },
     "execution_count": 4,
     "metadata": {},
     "output_type": "execute_result"
    }
   ],
   "source": [
    "fifa.duplicated().sum()"
   ]
  },
  {
   "cell_type": "code",
   "execution_count": 14,
   "id": "2e3eb527",
   "metadata": {},
   "outputs": [
    {
     "name": "stdout",
     "output_type": "stream",
     "text": [
      "       Unnamed: 0     ID   Name    Age  Photo  Nationality   Flag  Overall  \\\n",
      "0           False  False  False  False  False        False  False    False   \n",
      "1           False  False  False  False  False        False  False    False   \n",
      "2           False  False  False  False  False        False  False    False   \n",
      "3           False  False  False  False  False        False  False    False   \n",
      "4           False  False  False  False  False        False  False    False   \n",
      "...           ...    ...    ...    ...    ...          ...    ...      ...   \n",
      "18202       False  False  False  False  False        False  False    False   \n",
      "18203       False  False  False  False  False        False  False    False   \n",
      "18204       False  False  False  False  False        False  False    False   \n",
      "18205       False  False  False  False  False        False  False    False   \n",
      "18206       False  False  False  False  False        False  False    False   \n",
      "\n",
      "       Potential   Club  ...  Composure  Marking  StandingTackle  \\\n",
      "0          False  False  ...      False    False           False   \n",
      "1          False  False  ...      False    False           False   \n",
      "2          False  False  ...      False    False           False   \n",
      "3          False  False  ...      False    False           False   \n",
      "4          False  False  ...      False    False           False   \n",
      "...          ...    ...  ...        ...      ...             ...   \n",
      "18202      False  False  ...      False    False           False   \n",
      "18203      False  False  ...      False    False           False   \n",
      "18204      False  False  ...      False    False           False   \n",
      "18205      False  False  ...      False    False           False   \n",
      "18206      False  False  ...      False    False           False   \n",
      "\n",
      "       SlidingTackle  GKDiving  GKHandling  GKKicking  GKPositioning  \\\n",
      "0              False     False       False      False          False   \n",
      "1              False     False       False      False          False   \n",
      "2              False     False       False      False          False   \n",
      "3              False     False       False      False          False   \n",
      "4              False     False       False      False          False   \n",
      "...              ...       ...         ...        ...            ...   \n",
      "18202          False     False       False      False          False   \n",
      "18203          False     False       False      False          False   \n",
      "18204          False     False       False      False          False   \n",
      "18205          False     False       False      False          False   \n",
      "18206          False     False       False      False          False   \n",
      "\n",
      "       GKReflexes  Release Clause  \n",
      "0           False           False  \n",
      "1           False           False  \n",
      "2           False           False  \n",
      "3           False           False  \n",
      "4           False           False  \n",
      "...           ...             ...  \n",
      "18202       False           False  \n",
      "18203       False           False  \n",
      "18204       False           False  \n",
      "18205       False           False  \n",
      "18206       False           False  \n",
      "\n",
      "[18207 rows x 89 columns]\n",
      "Unnamed: 0           0\n",
      "ID                   0\n",
      "Name                 0\n",
      "Age                  0\n",
      "Photo                0\n",
      "                  ... \n",
      "GKHandling          48\n",
      "GKKicking           48\n",
      "GKPositioning       48\n",
      "GKReflexes          48\n",
      "Release Clause    1564\n",
      "Length: 89, dtype: int64\n"
     ]
    }
   ],
   "source": [
    "print(fifa.isnull())\n",
    "print(fifa.isnull().sum())"
   ]
  }
 ],
 "metadata": {
  "kernelspec": {
   "display_name": "Python 3 (ipykernel)",
   "language": "python",
   "name": "python3"
  },
  "language_info": {
   "codemirror_mode": {
    "name": "ipython",
    "version": 3
   },
   "file_extension": ".py",
   "mimetype": "text/x-python",
   "name": "python",
   "nbconvert_exporter": "python",
   "pygments_lexer": "ipython3",
   "version": "3.11.7"
  }
 },
 "nbformat": 4,
 "nbformat_minor": 5
}
